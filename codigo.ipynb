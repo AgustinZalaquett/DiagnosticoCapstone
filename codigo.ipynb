{
 "cells": [
  {
   "cell_type": "code",
   "execution_count": 3,
   "metadata": {},
   "outputs": [
    {
     "ename": "JSONDecodeError",
     "evalue": "Extra data: line 2 column 1 (char 1733)",
     "output_type": "error",
     "traceback": [
      "\u001b[1;31m---------------------------------------------------------------------------\u001b[0m",
      "\u001b[1;31mJSONDecodeError\u001b[0m                           Traceback (most recent call last)",
      "\u001b[1;32mc:\\Users\\Lenovo\\OneDrive - uc.cl\\UNIVERSIDAD\\Ramos 2022-1\\Capstone\\DiagnosticoCapstone\\codigo.ipynb Cell 1'\u001b[0m in \u001b[0;36m<cell line: 4>\u001b[1;34m()\u001b[0m\n\u001b[0;32m      <a href='vscode-notebook-cell:/c%3A/Users/Lenovo/OneDrive%20-%20uc.cl/UNIVERSIDAD/Ramos%202022-1/Capstone/DiagnosticoCapstone/codigo.ipynb#ch0000000?line=2'>3</a>\u001b[0m f \u001b[39m=\u001b[39m \u001b[39mopen\u001b[39m(\u001b[39m\"\u001b[39m\u001b[39mfarmers-protest-tweets-2021-03-5.json\u001b[39m\u001b[39m\"\u001b[39m, \u001b[39m\"\u001b[39m\u001b[39mr\u001b[39m\u001b[39m\"\u001b[39m)\n\u001b[0;32m      <a href='vscode-notebook-cell:/c%3A/Users/Lenovo/OneDrive%20-%20uc.cl/UNIVERSIDAD/Ramos%202022-1/Capstone/DiagnosticoCapstone/codigo.ipynb#ch0000000?line=3'>4</a>\u001b[0m \u001b[39mwith\u001b[39;00m \u001b[39mopen\u001b[39m(\u001b[39m'\u001b[39m\u001b[39mfarmers-protest-tweets-2021-03-5.json\u001b[39m\u001b[39m'\u001b[39m, \u001b[39m\"\u001b[39m\u001b[39mr\u001b[39m\u001b[39m\"\u001b[39m) \u001b[39mas\u001b[39;00m file:\n\u001b[1;32m----> <a href='vscode-notebook-cell:/c%3A/Users/Lenovo/OneDrive%20-%20uc.cl/UNIVERSIDAD/Ramos%202022-1/Capstone/DiagnosticoCapstone/codigo.ipynb#ch0000000?line=5'>6</a>\u001b[0m     data \u001b[39m=\u001b[39m json\u001b[39m.\u001b[39;49mload(file)\n\u001b[0;32m      <a href='vscode-notebook-cell:/c%3A/Users/Lenovo/OneDrive%20-%20uc.cl/UNIVERSIDAD/Ramos%202022-1/Capstone/DiagnosticoCapstone/codigo.ipynb#ch0000000?line=8'>9</a>\u001b[0m     \u001b[39mfor\u001b[39;00m entity \u001b[39min\u001b[39;00m data[\u001b[39m\"\u001b[39m\u001b[39murl\u001b[39m\u001b[39m\"\u001b[39m]:\n\u001b[0;32m     <a href='vscode-notebook-cell:/c%3A/Users/Lenovo/OneDrive%20-%20uc.cl/UNIVERSIDAD/Ramos%202022-1/Capstone/DiagnosticoCapstone/codigo.ipynb#ch0000000?line=9'>10</a>\u001b[0m         \u001b[39mprint\u001b[39m(entity)\n",
      "File \u001b[1;32m~\\AppData\\Local\\Programs\\Python\\Python310\\lib\\json\\__init__.py:293\u001b[0m, in \u001b[0;36mload\u001b[1;34m(fp, cls, object_hook, parse_float, parse_int, parse_constant, object_pairs_hook, **kw)\u001b[0m\n\u001b[0;32m    <a href='file:///c%3A/Users/Lenovo/AppData/Local/Programs/Python/Python310/lib/json/__init__.py?line=273'>274</a>\u001b[0m \u001b[39mdef\u001b[39;00m \u001b[39mload\u001b[39m(fp, \u001b[39m*\u001b[39m, \u001b[39mcls\u001b[39m\u001b[39m=\u001b[39m\u001b[39mNone\u001b[39;00m, object_hook\u001b[39m=\u001b[39m\u001b[39mNone\u001b[39;00m, parse_float\u001b[39m=\u001b[39m\u001b[39mNone\u001b[39;00m,\n\u001b[0;32m    <a href='file:///c%3A/Users/Lenovo/AppData/Local/Programs/Python/Python310/lib/json/__init__.py?line=274'>275</a>\u001b[0m         parse_int\u001b[39m=\u001b[39m\u001b[39mNone\u001b[39;00m, parse_constant\u001b[39m=\u001b[39m\u001b[39mNone\u001b[39;00m, object_pairs_hook\u001b[39m=\u001b[39m\u001b[39mNone\u001b[39;00m, \u001b[39m*\u001b[39m\u001b[39m*\u001b[39mkw):\n\u001b[0;32m    <a href='file:///c%3A/Users/Lenovo/AppData/Local/Programs/Python/Python310/lib/json/__init__.py?line=275'>276</a>\u001b[0m     \u001b[39m\"\"\"Deserialize ``fp`` (a ``.read()``-supporting file-like object containing\u001b[39;00m\n\u001b[0;32m    <a href='file:///c%3A/Users/Lenovo/AppData/Local/Programs/Python/Python310/lib/json/__init__.py?line=276'>277</a>\u001b[0m \u001b[39m    a JSON document) to a Python object.\u001b[39;00m\n\u001b[0;32m    <a href='file:///c%3A/Users/Lenovo/AppData/Local/Programs/Python/Python310/lib/json/__init__.py?line=277'>278</a>\u001b[0m \n\u001b[1;32m   (...)\u001b[0m\n\u001b[0;32m    <a href='file:///c%3A/Users/Lenovo/AppData/Local/Programs/Python/Python310/lib/json/__init__.py?line=290'>291</a>\u001b[0m \u001b[39m    kwarg; otherwise ``JSONDecoder`` is used.\u001b[39;00m\n\u001b[0;32m    <a href='file:///c%3A/Users/Lenovo/AppData/Local/Programs/Python/Python310/lib/json/__init__.py?line=291'>292</a>\u001b[0m \u001b[39m    \"\"\"\u001b[39;00m\n\u001b[1;32m--> <a href='file:///c%3A/Users/Lenovo/AppData/Local/Programs/Python/Python310/lib/json/__init__.py?line=292'>293</a>\u001b[0m     \u001b[39mreturn\u001b[39;00m loads(fp\u001b[39m.\u001b[39mread(),\n\u001b[0;32m    <a href='file:///c%3A/Users/Lenovo/AppData/Local/Programs/Python/Python310/lib/json/__init__.py?line=293'>294</a>\u001b[0m         \u001b[39mcls\u001b[39m\u001b[39m=\u001b[39m\u001b[39mcls\u001b[39m, object_hook\u001b[39m=\u001b[39mobject_hook,\n\u001b[0;32m    <a href='file:///c%3A/Users/Lenovo/AppData/Local/Programs/Python/Python310/lib/json/__init__.py?line=294'>295</a>\u001b[0m         parse_float\u001b[39m=\u001b[39mparse_float, parse_int\u001b[39m=\u001b[39mparse_int,\n\u001b[0;32m    <a href='file:///c%3A/Users/Lenovo/AppData/Local/Programs/Python/Python310/lib/json/__init__.py?line=295'>296</a>\u001b[0m         parse_constant\u001b[39m=\u001b[39mparse_constant, object_pairs_hook\u001b[39m=\u001b[39mobject_pairs_hook, \u001b[39m*\u001b[39m\u001b[39m*\u001b[39mkw)\n",
      "File \u001b[1;32m~\\AppData\\Local\\Programs\\Python\\Python310\\lib\\json\\__init__.py:346\u001b[0m, in \u001b[0;36mloads\u001b[1;34m(s, cls, object_hook, parse_float, parse_int, parse_constant, object_pairs_hook, **kw)\u001b[0m\n\u001b[0;32m    <a href='file:///c%3A/Users/Lenovo/AppData/Local/Programs/Python/Python310/lib/json/__init__.py?line=340'>341</a>\u001b[0m     s \u001b[39m=\u001b[39m s\u001b[39m.\u001b[39mdecode(detect_encoding(s), \u001b[39m'\u001b[39m\u001b[39msurrogatepass\u001b[39m\u001b[39m'\u001b[39m)\n\u001b[0;32m    <a href='file:///c%3A/Users/Lenovo/AppData/Local/Programs/Python/Python310/lib/json/__init__.py?line=342'>343</a>\u001b[0m \u001b[39mif\u001b[39;00m (\u001b[39mcls\u001b[39m \u001b[39mis\u001b[39;00m \u001b[39mNone\u001b[39;00m \u001b[39mand\u001b[39;00m object_hook \u001b[39mis\u001b[39;00m \u001b[39mNone\u001b[39;00m \u001b[39mand\u001b[39;00m\n\u001b[0;32m    <a href='file:///c%3A/Users/Lenovo/AppData/Local/Programs/Python/Python310/lib/json/__init__.py?line=343'>344</a>\u001b[0m         parse_int \u001b[39mis\u001b[39;00m \u001b[39mNone\u001b[39;00m \u001b[39mand\u001b[39;00m parse_float \u001b[39mis\u001b[39;00m \u001b[39mNone\u001b[39;00m \u001b[39mand\u001b[39;00m\n\u001b[0;32m    <a href='file:///c%3A/Users/Lenovo/AppData/Local/Programs/Python/Python310/lib/json/__init__.py?line=344'>345</a>\u001b[0m         parse_constant \u001b[39mis\u001b[39;00m \u001b[39mNone\u001b[39;00m \u001b[39mand\u001b[39;00m object_pairs_hook \u001b[39mis\u001b[39;00m \u001b[39mNone\u001b[39;00m \u001b[39mand\u001b[39;00m \u001b[39mnot\u001b[39;00m kw):\n\u001b[1;32m--> <a href='file:///c%3A/Users/Lenovo/AppData/Local/Programs/Python/Python310/lib/json/__init__.py?line=345'>346</a>\u001b[0m     \u001b[39mreturn\u001b[39;00m _default_decoder\u001b[39m.\u001b[39;49mdecode(s)\n\u001b[0;32m    <a href='file:///c%3A/Users/Lenovo/AppData/Local/Programs/Python/Python310/lib/json/__init__.py?line=346'>347</a>\u001b[0m \u001b[39mif\u001b[39;00m \u001b[39mcls\u001b[39m \u001b[39mis\u001b[39;00m \u001b[39mNone\u001b[39;00m:\n\u001b[0;32m    <a href='file:///c%3A/Users/Lenovo/AppData/Local/Programs/Python/Python310/lib/json/__init__.py?line=347'>348</a>\u001b[0m     \u001b[39mcls\u001b[39m \u001b[39m=\u001b[39m JSONDecoder\n",
      "File \u001b[1;32m~\\AppData\\Local\\Programs\\Python\\Python310\\lib\\json\\decoder.py:340\u001b[0m, in \u001b[0;36mJSONDecoder.decode\u001b[1;34m(self, s, _w)\u001b[0m\n\u001b[0;32m    <a href='file:///c%3A/Users/Lenovo/AppData/Local/Programs/Python/Python310/lib/json/decoder.py?line=337'>338</a>\u001b[0m end \u001b[39m=\u001b[39m _w(s, end)\u001b[39m.\u001b[39mend()\n\u001b[0;32m    <a href='file:///c%3A/Users/Lenovo/AppData/Local/Programs/Python/Python310/lib/json/decoder.py?line=338'>339</a>\u001b[0m \u001b[39mif\u001b[39;00m end \u001b[39m!=\u001b[39m \u001b[39mlen\u001b[39m(s):\n\u001b[1;32m--> <a href='file:///c%3A/Users/Lenovo/AppData/Local/Programs/Python/Python310/lib/json/decoder.py?line=339'>340</a>\u001b[0m     \u001b[39mraise\u001b[39;00m JSONDecodeError(\u001b[39m\"\u001b[39m\u001b[39mExtra data\u001b[39m\u001b[39m\"\u001b[39m, s, end)\n\u001b[0;32m    <a href='file:///c%3A/Users/Lenovo/AppData/Local/Programs/Python/Python310/lib/json/decoder.py?line=340'>341</a>\u001b[0m \u001b[39mreturn\u001b[39;00m obj\n",
      "\u001b[1;31mJSONDecodeError\u001b[0m: Extra data: line 2 column 1 (char 1733)"
     ]
    }
   ],
   "source": [
    "import json\n",
    "\n",
    "# f = open(\"farmers-protest-tweets-2021-03-5.json\", \"r\")\n",
    "# with open('farmers-protest-tweets-2021-03-5.json', \"r\") as file:\n",
    "    \n",
    "#     data = json.load(file)\n",
    "\n",
    "\n",
    "#     for entity in data[\"url\"]:\n",
    "#         print(entity)\n",
    "\n",
    "print(\"no alcancé a hacer la lógica del código\")"
   ]
  }
 ],
 "metadata": {
  "interpreter": {
   "hash": "d406864f2ee78ecc67afccccd0a48c216f41ca3a0f9ca739a0b9d8b15ae422ba"
  },
  "kernelspec": {
   "display_name": "Python 3.10.4 64-bit",
   "language": "python",
   "name": "python3"
  },
  "language_info": {
   "codemirror_mode": {
    "name": "ipython",
    "version": 3
   },
   "file_extension": ".py",
   "mimetype": "text/x-python",
   "name": "python",
   "nbconvert_exporter": "python",
   "pygments_lexer": "ipython3",
   "version": "3.10.4"
  },
  "orig_nbformat": 4
 },
 "nbformat": 4,
 "nbformat_minor": 2
}
